{
 "cells": [
  {
   "cell_type": "markdown",
   "metadata": {},
   "source": [
    "#### question 1"
   ]
  },
  {
   "cell_type": "code",
   "execution_count": 10,
   "metadata": {
    "collapsed": true
   },
   "outputs": [],
   "source": [
    "def convert(list):\n",
    "    s = [str(i) for i in list] \n",
    "    res = int(\"\".join(s)) \n",
    "    return res"
   ]
  },
  {
   "cell_type": "code",
   "execution_count": 14,
   "metadata": {
    "collapsed": true
   },
   "outputs": [],
   "source": [
    "A = [2,7,4]\n",
    "K = 181"
   ]
  },
  {
   "cell_type": "code",
   "execution_count": 15,
   "metadata": {
    "collapsed": false
   },
   "outputs": [
    {
     "data": {
      "text/plain": [
       "274"
      ]
     },
     "execution_count": 15,
     "metadata": {},
     "output_type": "execute_result"
    }
   ],
   "source": [
    "convert(A)"
   ]
  },
  {
   "cell_type": "code",
   "execution_count": 30,
   "metadata": {
    "collapsed": true
   },
   "outputs": [],
   "source": [
    "def addToArray(A,K):\n",
    "    \n",
    "    s = [str(i) for i in A]\n",
    "    num = int(\"\".join(s))\n",
    "    num = num + K\n",
    "    num = list(str(num))\n",
    "    result = list(map(int,num))\n",
    "    return result"
   ]
  },
  {
   "cell_type": "code",
   "execution_count": 31,
   "metadata": {
    "collapsed": false
   },
   "outputs": [
    {
     "data": {
      "text/plain": [
       "[4, 5, 5]"
      ]
     },
     "execution_count": 31,
     "metadata": {},
     "output_type": "execute_result"
    }
   ],
   "source": [
    "addToArray(A,K)"
   ]
  },
  {
   "cell_type": "markdown",
   "metadata": {},
   "source": [
    "#### question 2"
   ]
  },
  {
   "cell_type": "code",
   "execution_count": 127,
   "metadata": {
    "collapsed": true
   },
   "outputs": [],
   "source": [
    "equations1 = [\"b==a\",\"a==b\"]\n",
    "equations2 = [\"a==b\",\"b!=a\"]\n",
    "equations3 = [\"a==b\",\"b==c\",\"a==c\"]\n",
    "equations4 = [\"a==b\",\"b!=c\",\"c==a\"]\n",
    "equations5 = [\"c==c\",\"b==d\",\"x!=z\"]"
   ]
  },
  {
   "cell_type": "code",
   "execution_count": 120,
   "metadata": {
    "collapsed": false
   },
   "outputs": [],
   "source": [
    "def equationsPossible(equations):\n",
    "    letters = [i for i in range(26)]\n",
    "    \n",
    "    def root(x):\n",
    "        if x == letters[x]:\n",
    "            return x\n",
    "        return root(letters[x])\n",
    "    \n",
    "    def update(x,y):\n",
    "        l1 = root(x)\n",
    "        l2 = root(y)\n",
    "        letters[l2] = l1\n",
    "    \n",
    "    # if equal, update the number\n",
    "    for e in equations:\n",
    "        if e[1] == \"=\":\n",
    "            letter1 = ord(e[0]) - ord('a')\n",
    "            letter2 = ord(e[3]) - ord('a')\n",
    "            update(letter1,letter2)\n",
    "            \n",
    "    # if not equal,check the numbers are equal       \n",
    "    for e in equations:\n",
    "        if e[1] == \"!\":\n",
    "            letter1 = ord(e[0]) - ord('a')\n",
    "            letter2 = ord(e[3]) - ord('a')\n",
    "            if root(letter1) == root(letter2):\n",
    "                return False\n",
    "    return True\n",
    "            \n"
   ]
  },
  {
   "cell_type": "code",
   "execution_count": 121,
   "metadata": {
    "collapsed": false
   },
   "outputs": [
    {
     "data": {
      "text/plain": [
       "False"
      ]
     },
     "execution_count": 121,
     "metadata": {},
     "output_type": "execute_result"
    }
   ],
   "source": [
    "equationsPossible(equations1)"
   ]
  },
  {
   "cell_type": "code",
   "execution_count": 122,
   "metadata": {
    "collapsed": false
   },
   "outputs": [
    {
     "data": {
      "text/plain": [
       "False"
      ]
     },
     "execution_count": 122,
     "metadata": {},
     "output_type": "execute_result"
    }
   ],
   "source": [
    "equationsPossible(equations2)"
   ]
  },
  {
   "cell_type": "code",
   "execution_count": 123,
   "metadata": {
    "collapsed": false
   },
   "outputs": [
    {
     "data": {
      "text/plain": [
       "True"
      ]
     },
     "execution_count": 123,
     "metadata": {},
     "output_type": "execute_result"
    }
   ],
   "source": [
    "equationsPossible(equations3)"
   ]
  },
  {
   "cell_type": "code",
   "execution_count": 126,
   "metadata": {
    "collapsed": false
   },
   "outputs": [
    {
     "data": {
      "text/plain": [
       "False"
      ]
     },
     "execution_count": 126,
     "metadata": {},
     "output_type": "execute_result"
    }
   ],
   "source": [
    "equationsPossible(equations4)"
   ]
  },
  {
   "cell_type": "code",
   "execution_count": 128,
   "metadata": {
    "collapsed": false
   },
   "outputs": [
    {
     "data": {
      "text/plain": [
       "True"
      ]
     },
     "execution_count": 128,
     "metadata": {},
     "output_type": "execute_result"
    }
   ],
   "source": [
    "equationsPossible(equations5)"
   ]
  },
  {
   "cell_type": "code",
   "execution_count": null,
   "metadata": {
    "collapsed": true
   },
   "outputs": [],
   "source": []
  }
 ],
 "metadata": {
  "kernelspec": {
   "display_name": "Python 3",
   "language": "python",
   "name": "python3"
  },
  "language_info": {
   "codemirror_mode": {
    "name": "ipython",
    "version": 3
   },
   "file_extension": ".py",
   "mimetype": "text/x-python",
   "name": "python",
   "nbconvert_exporter": "python",
   "pygments_lexer": "ipython3",
   "version": "3.5.2"
  }
 },
 "nbformat": 4,
 "nbformat_minor": 0
}
